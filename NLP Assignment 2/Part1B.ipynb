{
 "cells": [
  {
   "cell_type": "code",
   "execution_count": 34,
   "metadata": {},
   "outputs": [],
   "source": [
    "import json"
   ]
  },
  {
   "cell_type": "code",
   "execution_count": 35,
   "metadata": {},
   "outputs": [],
   "source": [
    "# chunking_train1 = {}/\n",
    "def BIO_chunking(sentence,tags1,tags2):\n",
    "    d=['O']*len(sentence)\n",
    "    for i in tags1:\n",
    "        c=0\n",
    "        for j in range(i['from'],i['to']):\n",
    "            if(c==0):\n",
    "                d[j]='B'\n",
    "                c=1\n",
    "            else:\n",
    "                d[j]='I'\n",
    "    for i in tags2:\n",
    "        c=0\n",
    "        for j in range(i['from'],i['to']):\n",
    "            if(c==0):\n",
    "                d[j]='B'\n",
    "                c=1\n",
    "            else:\n",
    "                d[j]='I'\n",
    "\n",
    "    print(d)\n",
    "    return d\n"
   ]
  },
  {
   "cell_type": "code",
   "execution_count": 36,
   "metadata": {},
   "outputs": [],
   "source": [
    "# Specify the path to your JSON file\n",
    "json_file_path = 'ATE/Laptop_Review_Train.json'\n",
    "\n",
    "# Read the JSON file\n",
    "with open(json_file_path) as f:\n",
    "    data = json.load(f)\n",
    "\n",
    "# data"
   ]
  },
  {
   "cell_type": "code",
   "execution_count": 38,
   "metadata": {},
   "outputs": [
    {
     "name": "stdout",
     "output_type": "stream",
     "text": [
      "['O', 'O', 'O', 'B', 'B', 'O', 'O', 'O', 'B', 'B', 'O', 'O', 'O', 'O', 'O', 'O', 'O', 'O', 'O', 'O', 'O', 'O', 'O', 'O', 'O', 'B', 'B', 'O', 'O', 'B', 'O', 'B', 'O', 'O', 'O', 'O', 'O', 'O']\n"
     ]
    }
   ],
   "source": [
    "j=0\n",
    "for i in range(1,len(data)):\n",
    "  # for t in data:\n",
    "  BIO_chunking(data[i]['words'],data[i]['aspects'],data[i]['opinions'])\n",
    "  j+=1 \n",
    "  if(j==1):\n",
    "    break\n",
    "  "
   ]
  }
 ],
 "metadata": {
  "kernelspec": {
   "display_name": "Python 3",
   "language": "python",
   "name": "python3"
  },
  "language_info": {
   "codemirror_mode": {
    "name": "ipython",
    "version": 3
   },
   "file_extension": ".py",
   "mimetype": "text/x-python",
   "name": "python",
   "nbconvert_exporter": "python",
   "pygments_lexer": "ipython3",
   "version": "3.11.2"
  }
 },
 "nbformat": 4,
 "nbformat_minor": 2
}
