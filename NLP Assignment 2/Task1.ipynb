{
 "cells": [
  {
   "cell_type": "code",
   "execution_count": 127,
   "metadata": {},
   "outputs": [],
   "source": [
    "import json"
   ]
  },
  {
   "cell_type": "code",
   "execution_count": 128,
   "metadata": {},
   "outputs": [],
   "source": [
    "# Specify the path to your JSON file\n",
    "json_file_path = 'NER_TRAIN_JUDGEMENT.json'\n",
    "\n",
    "# Read the JSON file\n",
    "with open(json_file_path) as f:\n",
    "    data = json.load(f)\n",
    "# print(type(data))\n",
    "training_data = data[0:int(0.85*len(data))]            #85% is training data\n",
    "validation_data = data[int(0.85*len(data)):len(data)]  #15% is validation data"
   ]
  },
  {
   "cell_type": "code",
   "execution_count": 129,
   "metadata": {},
   "outputs": [],
   "source": [
    "chunking_train1 = {}\n",
    "def BIO_chunking(index,sentence,tags):\n",
    "    s=sentence.split(\" \")\n",
    "    labels=[]\n",
    "    length = 0\n",
    "    print(s)\n",
    "    for i in s:\n",
    "        c=0\n",
    "        for j in range(len(tags)):\n",
    "            if(length==tags[j]['value']['start']):\n",
    "                labels.append('B_'+tags[j]['value']['labels'][0])\n",
    "                c=1\n",
    "                if(len((tags[j]['value']['text']).split(\" \"))>1):\n",
    "                    for k in range(1,len((tags[j]['value']['text']).split(\" \"))):\n",
    "                        labels.append('I_'+tags[j]['value']['labels'][0])\n",
    "        if(c==0):\n",
    "            labels.append('O')\n",
    "            print('o'+ i)\n",
    "        length+=len(i)+1\n",
    "\n",
    "    d={}\n",
    "    d['text']=sentence\n",
    "    d['labels']=labels\n",
    "    chunking_train1[index]=d\n"
   ]
  },
  {
   "cell_type": "code",
   "execution_count": 134,
   "metadata": {},
   "outputs": [
    {
     "name": "stdout",
     "output_type": "stream",
     "text": [
      "['\\n\\n(7)', 'On', 'specific', 'query', 'by', 'the', 'Bench', 'about', 'an', 'entry', 'of', 'Rs.', '1,31,37,500', 'on', 'deposit', 'side', 'of', 'Hongkong', 'Bank', 'account', 'of', 'which', 'a', 'photo', 'copy', 'is', 'appearing', 'at', 'p.', '40', 'of', \"assessee's\", 'paper', 'book,', 'learned', 'authorised', 'representative', 'submitted', 'that', 'it', 'was', 'related', 'to', 'loan', 'from', 'broker,', 'Rahul', '&', 'Co.', 'on', 'the', 'basis', 'of', 'his', 'submission', 'a', 'necessary', 'mark', 'is', 'put', 'by', 'us', 'on', 'that', 'photo', 'copy.']\n",
      "['O', 'O', 'O', 'O', 'O', 'O', 'O', 'O', 'O', 'O', 'O', 'O', 'O', 'O', 'O', 'O', 'O', 'B_ORG', 'I_ORG', 'O', 'O', 'O', 'O', 'O', 'O', 'O', 'O', 'O', 'O', 'O', 'O', 'O', 'O', 'O', 'O', 'O', 'O', 'O', 'O', 'O', 'O', 'O', 'O', 'O', 'O', 'O', 'O', 'B_ORG', 'I_ORG', 'I_ORG', 'O', 'O', 'O', 'O', 'O', 'O', 'O', 'O', 'O', 'O', 'O', 'O', 'O', 'O', 'O', 'O', 'O', 'O', 'O']\n"
     ]
    }
   ],
   "source": [
    "j=0\n",
    "for i in range(len(training_data)):\n",
    "  for t in training_data:\n",
    "    j+=1\n",
    "    if(j>1):\n",
    "      break\n",
    "    BIO_chunking(t['id'],t['data']['text'],t['annotations'][0]['result'])\n",
    "  \n",
    "print(chunking_train1['90d9a97c7b7749ec8a4f460fda6f937e']['labels'])"
   ]
  },
  {
   "cell_type": "code",
   "execution_count": 131,
   "metadata": {},
   "outputs": [
    {
     "name": "stdout",
     "output_type": "stream",
     "text": [
      "{'90d9a97c7b7749ec8a4f460fda6f937e': {'text': \"\\n\\n(7) On specific query by the Bench about an entry of Rs. 1,31,37,500 on deposit side of Hongkong Bank account of which a photo copy is appearing at p. 40 of assessee's paper book, learned authorised representative submitted that it was related to loan from broker, Rahul & Co. on the basis of his submission a necessary mark is put by us on that photo copy.\", 'labels': ['O', 'O', 'O', 'O', 'O', 'O', 'O', 'O', 'O', 'O', 'O', 'O', 'O', 'O', 'O', 'O', 'O', 'B_ORG', 'I_ORG', 'O', 'O', 'O', 'O', 'O', 'O', 'O', 'O', 'O', 'O', 'O', 'O', 'O', 'O', 'O', 'O', 'O', 'O', 'O', 'O', 'O', 'O', 'O', 'O', 'O', 'O', 'O', 'O', 'B_ORG', 'I_ORG', 'I_ORG', 'O', 'O', 'O', 'O', 'O', 'O', 'O', 'O', 'O', 'O', 'O', 'O', 'O', 'O', 'O', 'O', 'O', 'O', 'O']}}\n",
      "JSON file created successfully!\n"
     ]
    }
   ],
   "source": [
    "print(chunking_train1)\n",
    "file_path = \"NER_training_data1.json\"\n",
    "\n",
    "# Write the data to the JSON file\n",
    "with open(file_path, 'w') as json_file:\n",
    "    json.dump(chunking_train1, json_file,indent=4)\n",
    "\n",
    "print(\"JSON file created successfully!\")"
   ]
  },
  {
   "cell_type": "code",
   "execution_count": 132,
   "metadata": {},
   "outputs": [
    {
     "name": "stdout",
     "output_type": "stream",
     "text": [
      "H\n"
     ]
    }
   ],
   "source": [
    "\n",
    "s=\"\\n\\n(7) On specific query by the Bench about an entry of Rs. 1,31,37,500 on deposit side of Hongkong Bank account of which a photo copy is appearing at p. 40 of assessee's paper book, learned authorised representative submitted that it was related to loan from broker, Rahul & Co. on the basis of his submission a necessary mark is put by us on that photo copy.\"\n",
    "\n",
    "print(s[90])"
   ]
  }
 ],
 "metadata": {
  "kernelspec": {
   "display_name": "base",
   "language": "python",
   "name": "python3"
  },
  "language_info": {
   "codemirror_mode": {
    "name": "ipython",
    "version": 3
   },
   "file_extension": ".py",
   "mimetype": "text/x-python",
   "name": "python",
   "nbconvert_exporter": "python",
   "pygments_lexer": "ipython3",
   "version": "3.11.2"
  }
 },
 "nbformat": 4,
 "nbformat_minor": 2
}
