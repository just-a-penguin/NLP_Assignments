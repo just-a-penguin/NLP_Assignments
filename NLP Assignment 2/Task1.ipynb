{
 "cells": [
  {
   "cell_type": "code",
   "execution_count": 167,
   "metadata": {},
   "outputs": [],
   "source": [
    "import json"
   ]
  },
  {
   "cell_type": "code",
   "execution_count": 168,
   "metadata": {},
   "outputs": [],
   "source": [
    "# Specify the path to your JSON file\n",
    "json_file_path = 'NER_TRAIN_JUDGEMENT.json'\n",
    "\n",
    "# Read the JSON file\n",
    "with open(json_file_path) as f:\n",
    "    data = json.load(f)\n",
    "# print(type(data))\n",
    "training_data = data[0:int(0.85*len(data))]            #85% is training data\n",
    "validation_data = data[int(0.85*len(data)):len(data)]  #15% is validation data"
   ]
  },
  {
   "cell_type": "code",
   "execution_count": 169,
   "metadata": {},
   "outputs": [],
   "source": [
    "def BIO_chunking(sentence,tags):\n",
    "    s=sentence.split()\n",
    "    labels=[]\n",
    "    length = 0\n",
    "    if(sentence[0]=='\\n'):\n",
    "        length+=2\n",
    "    # print(len(tags))\n",
    "    print(s)\n",
    "    for i in s:\n",
    "        c=0\n",
    "        print(length)\n",
    "        for j in range(len(tags)):\n",
    "            if(length==tags[j]['value']['start']):\n",
    "                labels.append('B_'+tags[j]['value']['labels'][0])\n",
    "                c=1\n",
    "                print(\"SDdfd\")\n",
    "                if(len(tags[j]['value']['text'])>1):\n",
    "                    for k in range(1,len((tags[j]['value']['text']).split())):\n",
    "                        labels.append('I_'+tags[j]['value']['labels'][0])\n",
    "\n",
    "        if(c==0):\n",
    "            labels.append('O')\n",
    "            \n",
    "        length+=len(i)+1\n",
    "        \n",
    "        # print('\\t')\n",
    "        # print()\n",
    "    return labels\n",
    "\n",
    "    "
   ]
  },
  {
   "cell_type": "code",
   "execution_count": 171,
   "metadata": {},
   "outputs": [
    {
     "name": "stdout",
     "output_type": "stream",
     "text": [
      "He was also asked whether Agya <span class=\"hidden_text\" id=\"span_5\"> CRA No.326-DB of 1998 6</span> Kaur, mother-in-law of the deceased lived separately from Tarlochan Singh.\n",
      "['He', 'was', 'also', 'asked', 'whether', 'Agya', '<span', 'class=\"hidden_text\"', 'id=\"span_5\">', 'CRA', 'No.326-DB', 'of', '1998', '6</span>', 'Kaur,', 'mother-in-law', 'of', 'the', 'deceased', 'lived', 'separately', 'from', 'Tarlochan', 'Singh.']\n",
      "0\n",
      "3\n",
      "7\n",
      "12\n",
      "18\n",
      "26\n",
      "SDdfd\n",
      "31\n",
      "37\n",
      "57\n",
      "70\n",
      "74\n",
      "84\n",
      "87\n",
      "92\n",
      "101\n",
      "SDdfd\n",
      "107\n",
      "121\n",
      "124\n",
      "128\n",
      "137\n",
      "143\n",
      "154\n",
      "159\n",
      "SDdfd\n",
      "169\n",
      "['O', 'O', 'O', 'O', 'O', 'B_OTHER_PERSON', 'O', 'O', 'O', 'O', 'O', 'O', 'O', 'O', 'B_OTHER_PERSON', 'O', 'O', 'O', 'O', 'O', 'O', 'O', 'B_OTHER_PERSON', 'I_OTHER_PERSON', 'O']\n",
      "\n"
     ]
    }
   ],
   "source": [
    "# j=0\n",
    "# for i in range(len(training_data)):\n",
    "#   for t in training_data:\n",
    "#     j+=1\n",
    "#     if(j>1):\n",
    "#       break\n",
    "#     # print(t['id'],t['annotations'],t['data'])\n",
    "#     print(t['annotations'])\n",
    "#     # print(t['data'])\n",
    "#     # print(t['annotations'][0]['result'][0]['value']['start']) #will be sending results above\n",
    "\n",
    "#     print(\"\\n\")\n",
    "\n",
    "\n",
    "# print(type(training_data))\n",
    "print(training_data[1]['data']['text'])\n",
    "# s=\"(See Principles of Statutory Interpretation by Justice G.P. Singh, 9th Edn., 2004 at p. \\n\\n 438.).\"\n",
    "# print(training_data[0]['annotations'][0]['result'])\n",
    "print(BIO_chunking(training_data[1]['data']['text'],training_data[1]['annotations'][0]['result']))\n",
    "print()\n",
    "\n",
    "    "
   ]
  }
 ],
 "metadata": {
  "kernelspec": {
   "display_name": "base",
   "language": "python",
   "name": "python3"
  },
  "language_info": {
   "codemirror_mode": {
    "name": "ipython",
    "version": 3
   },
   "file_extension": ".py",
   "mimetype": "text/x-python",
   "name": "python",
   "nbconvert_exporter": "python",
   "pygments_lexer": "ipython3",
   "version": "3.11.2"
  }
 },
 "nbformat": 4,
 "nbformat_minor": 2
}
